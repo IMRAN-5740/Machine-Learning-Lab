{
  "nbformat": 4,
  "nbformat_minor": 0,
  "metadata": {
    "colab": {
      "provenance": []
    },
    "kernelspec": {
      "name": "python3",
      "display_name": "Python 3"
    },
    "language_info": {
      "name": "python"
    }
  },
  "cells": [
    {
      "cell_type": "code",
      "execution_count": null,
      "metadata": {
        "colab": {
          "base_uri": "https://localhost:8080/"
        },
        "id": "qUGCnBRMYE_a",
        "outputId": "d9d143bb-0b53-4a50-ebb9-3bf729b3bf92"
      },
      "outputs": [
        {
          "output_type": "stream",
          "name": "stdout",
          "text": [
            "MAE: 5.599759825271182\n",
            "MSE: 56.5211836574722\n",
            "RMSE: 7.518057173064873\n",
            "R^2 Score: 0.8969155673669311\n"
          ]
        }
      ],
      "source": [
        "import pandas as pd\n",
        "from sklearn.model_selection import train_test_split\n",
        "from sklearn.linear_model import LinearRegression\n",
        "from sklearn.metrics import mean_absolute_error, mean_squared_error, r2_score\n",
        "import numpy as np\n",
        "\n",
        "# Step 1: Load the Data\n",
        "data = pd.read_csv(\"/content/gld_price_data.csv\")\n",
        "\n",
        "# Step 2: Drop the 'Date', 'EUR/USD' columns\n",
        "data = data.drop(['Date', 'EUR/USD'], axis=1)\n",
        "\n",
        "# Step 3: Split the Data\n",
        "X = data.drop(['GLD'], axis=1)  # Features excluding 'GLD'\n",
        "y = data['GLD']  # Target variable 'GLD'\n",
        "\n",
        "# Step 4: Split into Training and Testing Sets\n",
        "X_train, X_test, y_train, y_test = train_test_split(X, y, test_size=0.2, random_state=42)\n",
        "\n",
        "# Step 5: Train a Regression Model\n",
        "model = LinearRegression()\n",
        "model.fit(X_train, y_train)\n",
        "\n",
        "# Step 6: Make Predictions\n",
        "y_pred = model.predict(X_test)\n",
        "\n",
        "# Step 7: Evaluate the Model\n",
        "mae = mean_absolute_error(y_test, y_pred)\n",
        "mse = mean_squared_error(y_test, y_pred)\n",
        "rmse = np.sqrt(mse)\n",
        "r2 = r2_score(y_test, y_pred)\n",
        "\n",
        "print(f'MAE: {mae}')\n",
        "print(f'MSE: {mse}')\n",
        "print(f'RMSE: {rmse}')\n",
        "print(f'R^2 Score: {r2}')\n"
      ]
    }
  ]
}