{
  "cells": [
    {
      "cell_type": "code",
      "execution_count": null,
      "metadata": {
        "colab": {
          "background_save": true,
          "base_uri": "https://localhost:8080/",
          "height": 281
        },
        "id": "0x76ZsRREWQ0",
        "outputId": "c5c258ae-d53a-44b7-baaa-9bc030a3829e"
      },
      "outputs": [
        {
          "ename": "NameError",
          "evalue": "ignored",
          "output_type": "error",
          "traceback": [
            "\u001b[0;31m---------------------------------------------------------------------------\u001b[0m",
            "\u001b[0;31mNameError\u001b[0m                                 Traceback (most recent call last)",
            "\u001b[0;32m<ipython-input-12-793c7c709968>\u001b[0m in \u001b[0;36m<cell line: 50>\u001b[0;34m()\u001b[0m\n\u001b[1;32m     48\u001b[0m \u001b[0;34m\u001b[0m\u001b[0m\n\u001b[1;32m     49\u001b[0m \u001b[0mplt\u001b[0m\u001b[0;34m.\u001b[0m\u001b[0msubplot\u001b[0m\u001b[0;34m(\u001b[0m\u001b[0;36m3\u001b[0m\u001b[0;34m,\u001b[0m\u001b[0;36m1\u001b[0m\u001b[0;34m,\u001b[0m\u001b[0;36m3\u001b[0m\u001b[0;34m)\u001b[0m\u001b[0;34m\u001b[0m\u001b[0;34m\u001b[0m\u001b[0m\n\u001b[0;32m---> 50\u001b[0;31m \u001b[0mplt\u001b[0m\u001b[0;34m.\u001b[0m\u001b[0mplot\u001b[0m\u001b[0;34m(\u001b[0m\u001b[0mn\u001b[0m\u001b[0;34m,\u001b[0m \u001b[0my222\u001b[0m\u001b[0;34m)\u001b[0m\u001b[0;34m\u001b[0m\u001b[0;34m\u001b[0m\u001b[0m\n\u001b[0m\u001b[1;32m     51\u001b[0m \u001b[0mplt\u001b[0m\u001b[0;34m.\u001b[0m\u001b[0mtitle\u001b[0m\u001b[0;34m(\u001b[0m\u001b[0;34m\"Y Signal Added\"\u001b[0m\u001b[0;34m)\u001b[0m\u001b[0;34m\u001b[0m\u001b[0;34m\u001b[0m\u001b[0m\n\u001b[1;32m     52\u001b[0m \u001b[0;34m\u001b[0m\u001b[0m\n",
            "\u001b[0;31mNameError\u001b[0m: name 'y222' is not defined"
          ]
        },
        {
          "data": {
            "image/png": "[encoded data removed]",
            "text/plain": [
              "<Figure size 1200x800 with 1 Axes>"
            ]
          },
          "metadata": {},
          "output_type": "display_data"
        }
      ],
      "source": [
        "import numpy as np\n",
        "import matplotlib.pyplot as plt\n",
        "n = np.arange(-12, 12, .1)\n",
        "\n",
        "\n",
        "#Before sending System\n",
        "# assume 1 delay\n",
        "# First Iteration\n",
        "first_Value2 = 0.5 *0.5 * np.cos(np.pi *(n-4))\n",
        "second_Value2 = 0.5 *0.5 * np.cos(np.pi *(n-1))\n",
        "y11 = np.add(first_Value2, second_Value2)\n",
        "\n",
        "# Second Iteration\n",
        "\n",
        "third_Value2 =  2*np.sin(np.pi *(n+2))\n",
        "fourth_Value2 =  2* np.sin(np.pi *(n))\n",
        "y22 = np.add(third_Value2, fourth_Value2)\n",
        "\n",
        "y1111=np.add(y11,y22);\n",
        "\n",
        "\n",
        "\n",
        "# After sending System\n",
        "\n",
        "# First Iteration\n",
        "first_Value = 0.5 *0.5 * np.cos(np.pi*(n-3))\n",
        "second_Value = 0.5 *0.5 * np.cos(np.pi*n)\n",
        "y1 = np.add(first_Value, second_Value)\n",
        "\n",
        "\n",
        "# Second Iteration\n",
        "third_Value =  2*np.sin(np.pi*(n+3))\n",
        "fourth_Value =  2*np.sin(np.pi*(n+1))\n",
        "y2 = np.add(third_Value, fourth_Value)\n",
        "\n",
        "y2222=np.add(y1,y2);\n",
        "\n",
        "\n",
        "\n",
        "plt.figure(figsize=(12, 8))\n",
        "# plt.subplot(3,1,1)\n",
        "# plt.plot(n, y1)\n",
        "# plt.title(\"Y1 Signal Added\")\n",
        "\n",
        "# plt.subplot(3,1,2)\n",
        "# plt.plot(n, y2)\n",
        "# plt.title(\"Y2 Signal Added\")\n",
        "\n",
        "plt.subplot(3,1,3)\n",
        "plt.plot(n, y1)\n",
        "plt.title(\"Y Signal Added\")\n",
        "\n",
        "plt.grid(True)\n",
        "plt.show()\n",
        "\n",
        "\n",
        "# Check Varient or not\n",
        "k = 2\n",
        "# afterchange_y = np.roll(y1111, y2222)\n",
        "\n",
        "if np.array_equal(y1111, y2222):\n",
        "    print(\"NO\")\n",
        "else:\n",
        "    print(\"YES\")\n",
        "\n",
        "\n",
        "\n",
        "\n",
        "\n",
        "\n",
        "\n"
      ]
    }
  ],
  "metadata": {
    "colab": {
      "provenance": []
    },
    "kernelspec": {
      "display_name": "Python 3",
      "name": "python3"
    },
    "language_info": {
      "name": "python"
    }
  },
  "nbformat": 4,
  "nbformat_minor": 0
}