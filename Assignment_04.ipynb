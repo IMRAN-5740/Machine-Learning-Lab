{
  "nbformat": 4,
  "nbformat_minor": 0,
  "metadata": {
    "colab": {
      "provenance": []
    },
    "kernelspec": {
      "name": "python3",
      "display_name": "Python 3"
    },
    "language_info": {
      "name": "python"
    }
  },
  "cells": [
    {
      "cell_type": "markdown",
      "source": [
        "# Assignment 04: Random Forest Classifier"
      ],
      "metadata": {
        "id": "rjtNyHvazuwC"
      }
    },
    {
      "cell_type": "code",
      "source": [
        "import pandas as pd\n",
        "from sklearn.tree import DecisionTreeClassifier\n",
        "from sklearn.ensemble import RandomForestClassifier\n",
        "from sklearn.model_selection import train_test_split\n",
        "from sklearn.metrics import accuracy_score\n",
        "\n",
        "# Load the dataset\n",
        "dataset = pd.read_csv('/content/cancer_patients.csv')\n",
        "\n",
        "# Separating Dependent and Independent variables\n",
        "x = dataset.iloc[:, :-1]\n",
        "y = dataset.iloc[:, -1]\n",
        "\n",
        "# Split the data into training and test sets\n",
        "x_train, x_test, y_train, y_test = train_test_split(x, y, test_size=.3, random_state=42, stratify=y)\n",
        "\n",
        "# Create decision tree and random forest classifiers\n",
        "dtc = DecisionTreeClassifier()\n",
        "rfc = RandomForestClassifier()\n",
        "\n",
        "# Fit the classifiers to the training data\n",
        "dtc.fit(x_train, y_train)\n",
        "rfc.fit(x_train, y_train)\n",
        "\n",
        "# Predict the labels for the test data\n",
        "dtc_predictions = dtc.predict(x_test)\n",
        "rfc_predictions = rfc.predict(x_test)\n",
        "\n",
        "# Evaluate the accuracy of the classifiers\n",
        "dtc_accuracy = accuracy_score(y_test, dtc_predictions)\n",
        "rfc_accuracy = accuracy_score(y_test, rfc_predictions)\n",
        "\n",
        "# Print the accuracy of the classifiers\n",
        "print('Decision tree accuracy:', dtc_accuracy)\n",
        "print('Random forest accuracy:', rfc_accuracy)\n",
        "\n",
        "# Find the important features of the random forest classifier\n",
        "important_features = rfc.feature_importances_\n",
        "print('Important features:', important_features)\n",
        "top_five_features = sorted(zip(important_features, x.columns), reverse=True)[:5]\n",
        "print('Top five features:', top_five_features)"
      ],
      "metadata": {
        "colab": {
          "base_uri": "https://localhost:8080/"
        },
        "id": "RHJ_8KUByBa9",
        "outputId": "91ce0a44-4f98-4ded-815d-fb5769a4a3b6"
      },
      "execution_count": null,
      "outputs": [
        {
          "output_type": "stream",
          "name": "stdout",
          "text": [
            "Decision tree accuracy: 1.0\n",
            "Random forest accuracy: 1.0\n",
            "Important features: [0.00870802 0.00047022 0.0100365  0.11039561 0.09635973 0.07836926\n",
            " 0.0614726  0.03124193 0.01623781 0.06372261 0.01006434 0.02216957\n",
            " 0.0121462  0.07836709 0.09220703 0.02188102 0.03903425 0.07136908\n",
            " 0.05792585 0.03355827 0.03005693 0.01601133 0.03819476]\n",
            "Top five features: [(0.11039561092379742, 'Alcohol use'), (0.09635972897105312, 'Dust Allergy'), (0.09220702541796003, 'Fatigue'), (0.0783692584355671, 'OccuPational Hazards'), (0.07836709092518963, 'Coughing of Blood')]\n"
          ]
        }
      ]
    }
  ]
}